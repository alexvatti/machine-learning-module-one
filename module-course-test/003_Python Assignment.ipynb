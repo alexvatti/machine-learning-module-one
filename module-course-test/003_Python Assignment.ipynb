{
 "cells": [
  {
   "cell_type": "markdown",
   "metadata": {
    "colab_type": "text",
    "id": "l0ZzOlyxB-kf"
   },
   "source": [
    "<h1>Python: without numpy or sklearn </h1>"
   ]
  },
  {
   "cell_type": "markdown",
   "metadata": {
    "colab_type": "text",
    "id": "C0xO8JV9B-ki"
   },
   "source": [
    "<h3> Q1: Given two matrices please print the product of those two matrices </h3>\n",
    "<pre>\n",
    "\n",
    "Ex 1: A   = [[1 3 4]\n",
    "             [2 5 7]\n",
    "             [5 9 6]]\n",
    "      B   = [[1 0 0]\n",
    "             [0 1 0]\n",
    "             [0 0 1]]\n",
    "      A*B = [[1 3 4]\n",
    "             [2 5 7]\n",
    "             [5 9 6]]\n",
    "\n",
    "     \n",
    "Ex 2: A   = [[1 2]\n",
    "             [3 4]]\n",
    "      B   = [[1 2 3 4 5]\n",
    "             [5 6 7 8 9]]\n",
    "      A*B = [[11 14 17 20 23]\n",
    "             [23 30 37 44 51]]\n",
    "             \n",
    "Ex 3: A   = [[1 2]\n",
    "             [3 4]]\n",
    "      B   = [[1 4]\n",
    "             [5 6]\n",
    "             [7 8]\n",
    "             [9 6]]\n",
    "      A*B =Not possible\n",
    "</pre>"
   ]
  },
  {
   "cell_type": "code",
   "execution_count": 1,
   "metadata": {
    "colab": {},
    "colab_type": "code",
    "id": "rnssAfpgB-kj"
   },
   "outputs": [
    {
     "name": "stdout",
     "output_type": "stream",
     "text": [
      "Given Matrix dimensions (rows X columns): 3 3\n",
      "Given Matrix dimensions (rows X columns): 3 3\n",
      "A*B = [[1, 3, 4], [2, 5, 7], [5, 9, 6]]\n"
     ]
    }
   ],
   "source": [
    "# write your python code here\n",
    "# you can take the above example as sample input for your program to test\n",
    "# it should work for any general input try not to hard code for only given input examples\n",
    "# you can take matrix input from user or you can directly define the matrix and give input to the function\n",
    "# reference for creating input - https://stackoverflow.com/questions/12293208/how-to-create-a-list-of-lists\n",
    "\n",
    "# you can free to change all these codes/structure\n",
    "# here A and B are list of lists\n",
    "#ex 1\n",
    "A = [[1, 3, 4], [2, 5, 7], [5, 9, 6]]\n",
    "B = [[1, 0, 0], [0, 1, 0], [0, 0, 1]]\n",
    "\n",
    "#ex2\n",
    "#A  = [[1, 2], [3, 4]]\n",
    "#B  = [[1, 2, 3, 4, 5], [5, 6, 7, 8, 9]]\n",
    "\n",
    "#ex3\n",
    "#A = [[1, 2], [3, 4]]\n",
    "#B = [[1, 4], [5, 6], [7, 8],[9, 6]]\n",
    "\n",
    "def get_matrix_dim(matrix):\n",
    "    ''' Get the given matrix dimensions: rows x columns'''\n",
    "    rows = len(matrix)\n",
    "    columns = len(matrix[0])\n",
    "    print(\"Given Matrix dimensions (rows X columns):\", rows, columns)\n",
    "    return(rows, columns)\n",
    "\n",
    "def get_rows(matrix, row):\n",
    "    '''Return row of given matrix'''\n",
    "    return matrix[row]\n",
    "\n",
    "def get_columns(matrix, columns):\n",
    "    '''Return the column of given matrix'''\n",
    "    column = [matrix[i][columns] for i in range(len(matrix))]\n",
    "    return column\n",
    "\n",
    "def mul_rows_cloumns(row, column):\n",
    "    '''Return sum of mutipilcation of given row with column'''\n",
    "    return (sum(row[i]*column[i] for i in range(len(row))))\n",
    "\n",
    "def matrix_mul(A, B):\n",
    "    '''Does Matrix Multiplication'''\n",
    "    (rows_a, columns_a) = get_matrix_dim(A)\n",
    "    (rows_b, columns_b) = get_matrix_dim(B)\n",
    "    if (columns_a != rows_b):\n",
    "        print(\"Matrix dimensions mis-match...multiplication is not possible\")\n",
    "    else:\n",
    "        matrix = []\n",
    "        for i in range(len(A)):\n",
    "            matrix.append([])\n",
    "            for j in range(len(B[0])):\n",
    "                matrix[i].append(mul_rows_cloumns(get_rows(A, i), get_columns(B, j)))\n",
    "        print(\"A*B =\", matrix)\n",
    "    return\n",
    "\n",
    "if __name__ == \"__main__\":\n",
    "    matrix_mul(A, B)\n"
   ]
  },
  {
   "cell_type": "markdown",
   "metadata": {
    "colab_type": "text",
    "id": "at4VwLggB-kn"
   },
   "source": [
    "<h3> Q2: Proportional Sampling - Select a number randomly with probability proportional to its magnitude from the given array of n elements</h3>\n",
    "\n",
    "Consider an experiment, selecting an element from the list A randomly with probability proportional to its magnitude.\n",
    "assume we are doing the same experiment for 100 times with replacement, in each experiment you will print a number that is selected randomly from A.\n",
    "\n",
    "<pre>\n",
    "Ex 1: A = [0 5 27 6 13 28 100 45 10 79]\n",
    "let f(x) denote the number of times x getting selected in 100 experiments.\n",
    "f(100) > f(79) > f(45) > f(28) > f(27) > f(13) > f(10) > f(6) > f(5) > f(0)\n",
    "</pre>"
   ]
  },
  {
   "cell_type": "code",
   "execution_count": 23,
   "metadata": {
    "colab": {},
    "colab_type": "code",
    "id": "B6S2dpBhB-kn"
   },
   "outputs": [
    {
     "name": "stdout",
     "output_type": "stream",
     "text": [
      "value=0, Picked=0\n",
      "value=5, Picked=0\n",
      "value=6, Picked=0\n",
      "value=10, Picked=6\n",
      "value=13, Picked=7\n",
      "value=27, Picked=7\n",
      "value=28, Picked=9\n",
      "value=45, Picked=10\n",
      "value=79, Picked=27\n",
      "value=100, Picked=33\n"
     ]
    }
   ],
   "source": [
    "from random import uniform\n",
    "# write your python code here\n",
    "# you can take the above example as sample input for your program to test\n",
    "# it should work for any general input try not to hard code for only given input examples\n",
    "\n",
    "#video link for the topic - https://www.appliedaicourse.com/lecture/11/applied-machine-learning-online-course/2876/proportional-sampling/2/module-2-data-science-exploratory-data-analysis-and-data-visualization\n",
    "# you can free to change all these codes/structure\n",
    "A = [0, 5, 27, 6, 13, 28, 100, 45, 10, 79]\n",
    "def pick_a_number_from_list(A):\n",
    "    '''picking an element from with the probability propotional to its magnitude'''\n",
    "    weightage_list = []\n",
    " \n",
    "    for ele in A:\n",
    "        weightage_list.append(ele/sum(A))\n",
    "    #print(weightage_list)\n",
    "    cumulative_list = []\n",
    "    m = 0\n",
    "    for j in range(0,len(weightage_list)):\n",
    "        m += weightage_list[j]\n",
    "        cumulative_list.append(m)\n",
    "        \n",
    "    r = uniform(0,1)\n",
    "\n",
    "    for i in range(len(cumulative_list)):\n",
    "        if r < cumulative_list[i]:\n",
    "            return i\n",
    "    \n",
    "    return i\n",
    "\n",
    "def sampling_based_on_magnitued():\n",
    "    new_list = []\n",
    "    a = sorted(A)\n",
    "    for i in range(1,100):\n",
    "        number = pick_a_number_from_list(A)\n",
    "        new_list.append(A[number])\n",
    "\n",
    "    for i in a:\n",
    "        print(\"value={0}, Picked={1}\".format(i,new_list.count(i)))\n",
    "        \n",
    "if __name__ == \"__main__\":\n",
    "    sampling_based_on_magnitued()"
   ]
  },
  {
   "cell_type": "markdown",
   "metadata": {
    "colab_type": "text",
    "id": "D1xQy2WWB-kq"
   },
   "source": [
    "<h3> Q3: Replace the digits in the string with </h3>\n",
    "\n",
    "consider a string that will have digits in that, we need to remove all the not digits and replace the digits with \n",
    "<pre>\n",
    "Ex 1: A = 234                Output: ###\n",
    "Ex 2: A = a2b3c4             Output: ###\n",
    "Ex 3: A = abc                Output:   (empty string)\n",
    "Ex 5: A = #2a$#b%c%561#      Output: ####\n",
    "</pre>"
   ]
  },
  {
   "cell_type": "code",
   "execution_count": 87,
   "metadata": {
    "colab": {},
    "colab_type": "code",
    "id": "fxczi2jzB-kr"
   },
   "outputs": [
    {
     "name": "stdout",
     "output_type": "stream",
     "text": [
      "Output: ####\n"
     ]
    }
   ],
   "source": [
    "import re\n",
    "# write your python code here\n",
    "# you can take the above example as sample input for your program to test\n",
    "# it should work for any general input try not to hard code for only given input examples\n",
    "# try to complete this question using regular expressions\n",
    "# you can free to change all these codes/structure\n",
    "# String: it will be the input to your program\n",
    "string = \"#2a$#b%c%561#\"\n",
    "def replace_digits(string):\n",
    "    '''Replace the digits with # and delete the rest'''\n",
    "    # write your code\n",
    "    #step1 : get the digits from given string\n",
    "    digits = re.findall(\"[0-9]\", string)\n",
    "    temp_str = \"\".join(digits)\n",
    "    #Step 2: replace digits with \"#\"\n",
    "    output_str = re.sub(\"[0-9]\", \"#\", temp_str)\n",
    "    return(output_str)\n",
    "\n",
    "if __name__ == \"__main__\":\n",
    "    print(\"Output:\", replace_digits(string))\n"
   ]
  },
  {
   "cell_type": "markdown",
   "metadata": {
    "colab_type": "text",
    "id": "j7h0Ywg7B-kw"
   },
   "source": [
    "<h3> Q4: Students marks dashboard</h3>\n",
    "\n",
    "consider the marks list of class students given two lists <br>\n",
    "Students = ['student1','student2','student3','student4','student5','student6','student7','student8','student9','student10'] <br>\n",
    "Marks = [45, 78, 12, 14, 48, 43, 45, 98, 22, 80] <br>\n",
    "from the above two lists the Student[0] got Marks[0],  Student[1] got Marks[1] and so on <br><br>\n",
    "your task is to print the name of students\n",
    "<strong>a. Who got top 5 ranks, in the descending order of marks</strong> <br>\n",
    "<strong>b. Who got least 5 ranks, in the increasing order of marks</strong><br>\n",
    "<strong>d. Who got marks between  &gt;25th percentile &lt;75th percentile, in the increasing order of marks</strong>\n",
    "\n",
    "<pre>\n",
    "Ex 1: \n",
    "Students=['student1','student2','student3','student4','student5','student6','student7','student8','student9','student10'] \n",
    "Marks = [45, 78, 12, 14, 48, 43, 47, 98, 22, 80]\n",
    "a. \n",
    "student8  98\n",
    "student10 80\n",
    "student2  78\n",
    "student5  48\n",
    "student7  47\n",
    "b.\n",
    "student3 12\n",
    "student4 14\n",
    "student9 22\n",
    "student6 43\n",
    "student1 45\n",
    "c.\n",
    "student9 22\n",
    "student6 43\n",
    "student1 45\n",
    "student7 47\n",
    "student5 48\n",
    "</pre>"
   ]
  },
  {
   "cell_type": "code",
   "execution_count": 19,
   "metadata": {
    "colab": {},
    "colab_type": "code",
    "id": "cxPJgItsB-kx"
   },
   "outputs": [
    {
     "name": "stdout",
     "output_type": "stream",
     "text": [
      "Top 5 ranks, in the descending order of marks\n",
      "('student8', 98)\n",
      "('student10', 80)\n",
      "('student2', 78)\n",
      "('student5', 48)\n",
      "('student7', 47)\n",
      "Least 5 ranks, in the increasing order of marks\n",
      "('student3', 12)\n",
      "('student4', 14)\n",
      "('student9', 22)\n",
      "('student6', 43)\n",
      "('student1', 45)\n",
      "Marks between >25th percentile and <75th percentile, in the increasing order of marks\n",
      "('student9', 22)\n",
      "('student6', 43)\n",
      "('student1', 45)\n",
      "('student7', 47)\n",
      "('student5', 48)\n",
      "('student2', 78)\n"
     ]
    }
   ],
   "source": [
    "# write your python code here\n",
    "# you can take the above example as sample input for your program to test\n",
    "# it should work for any general input try not to hard code for only given input examples\n",
    "\n",
    "# you can free to change all these codes/structure\n",
    "import math\n",
    "students = ['student1', 'student2', 'student3', 'student4', 'student5',\\\n",
    "        'student6', 'student7', 'student8', 'student9', 'student10']\n",
    "marks = [45, 78, 12, 14, 48, 43, 47, 98, 22, 80]\n",
    "\n",
    "def percentile(marks,per):\n",
    "    n = len(marks)\n",
    "    p = (per * (n+1)) /100\n",
    "    #print(p)\n",
    "    if p.is_integer():\n",
    "        return sorted(marks)[p-1]\n",
    "    else:\n",
    "        l = int(p)-1\n",
    "        m = int(p)\n",
    "        x1 = sorted(marks)[l]\n",
    "        x2 = sorted(marks)[m]\n",
    "        return((x1+x2)/2)\n",
    "    \n",
    "def display_dash_board(students, marks):\n",
    "    '''Get the required information'''\n",
    "    #step 1: combined the two lists\n",
    "    combined_list = zip(students, marks)\n",
    "    #step 2 : sorted the list based on the marks as ascending order\n",
    "    combined_ordered_list = sorted(combined_list, key=lambda x: x[1])\n",
    "    #write code for computing top top 5 students\n",
    "    #Who got top 5 ranks, in the descending order of marks\n",
    "    top_5_students = combined_ordered_list[-1:-6:-1]\n",
    "    #Who got least 5 ranks, in the increasing order of marks\n",
    "    least_5_students = combined_ordered_list[0:5]\n",
    "    #Who got marks between >25th percentile <75th percentile, in the increasing order of marks\n",
    "    lower_25th_percentile_limit = percentile(marks, 25)\n",
    "    higher_75th_percentile_limit = percentile(marks, 75)\n",
    "    #print(lower_25th_percentile_limit,higher_75th_percentile_limit)\n",
    "    students_within_25_and_75 = [x for x in combined_ordered_list\n",
    "                if x[1] >= lower_25th_percentile_limit and x[1] < higher_75th_percentile_limit]\n",
    "    del combined_list\n",
    "    del combined_ordered_list\n",
    "    return top_5_students, least_5_students, students_within_25_and_75\n",
    "\n",
    "if __name__ == \"__main__\":\n",
    "    top_5_students, least_5_students, students_within_25_and_75 = display_dash_board(students, marks)\n",
    "    print(\"Top 5 ranks, in the descending order of marks\")\n",
    "    print(*top_5_students, sep=\"\\n\")\n",
    "    print(\"Least 5 ranks, in the increasing order of marks\")\n",
    "    print(*least_5_students, sep=\"\\n\")\n",
    "    print(\"Marks between >25th percentile and <75th percentile, in the increasing order of marks\")\n",
    "    print(*students_within_25_and_75, sep=\"\\n\")\n"
   ]
  },
  {
   "cell_type": "markdown",
   "metadata": {
    "colab_type": "text",
    "id": "qha0OhQHB-k1"
   },
   "source": [
    "<h3> Q5: Find the closest points</h3>\n",
    "\n",
    "Consider you have given n data points in the form of list of tuples like S=[(x1,y1),(x2,y2),(x3,y3),(x4,y4),(x5,y5),..,(xn,yn)] and a point P=(p,q) <br> Your task is to find 5 closest points(based on cosine distance) in S from P\n",
    "<br>Cosine distance between two points (x,y) and (p,q) is defind as $cos^{-1}(\\frac{(x\\cdot p+y\\cdot q)}{\\sqrt(x^2+y^2)\\cdot\\sqrt(p^2+q^2)})$\n",
    "<pre>\n",
    "Ex:\n",
    "\n",
    "S= [(1,2),(3,4),(-1,1),(6,-7),(0, 6),(-5,-8),(-1,-1),(6,0),(1,-1)]\n",
    "P= (3,-4)\n",
    "\n",
    "<img src='https://i.imgur.com/vyZZQGu.png' width=400>\n",
    "\n",
    "Output:\n",
    "(6,-7)\n",
    "(1,-1)\n",
    "(6,0)\n",
    "(-5,-8)\n",
    "(-1,-1)\n",
    "</pre>\n",
    " Hint - If you write the formula correctly you'll get the distance between points (6,-7) and (3,-4) = 0.065"
   ]
  },
  {
   "cell_type": "code",
   "execution_count": 67,
   "metadata": {
    "colab": {},
    "colab_type": "code",
    "id": "wA5I1g-2B-k2"
   },
   "outputs": [
    {
     "name": "stdout",
     "output_type": "stream",
     "text": [
      "(6, -7)\n",
      "(1, -1)\n",
      "(6, 0)\n",
      "(-5, -8)\n",
      "(-1, -1)\n"
     ]
    }
   ],
   "source": [
    "import math\n",
    "# write your python code here\n",
    "# you can take the above example as sample input for your program to test\n",
    "# it should work for any general input try not to hard code for only given input examples\n",
    "# you can free to change all these codes/structure\n",
    "\n",
    "\n",
    "# here S is list of tuples and P is a tuple ot len=2\n",
    "# here S is list of tuples and P is a tuple ot len=2\n",
    "def dot(A,B):\n",
    "    return (sum(a*b for a,b in zip(A,B)))\n",
    "\n",
    "def closest_points_to_p(S, P):\n",
    "    '''find top five closest points given in list -- from given point'''\n",
    "    # write your code here\n",
    "    dist = []\n",
    "    for i in range(len(S)):\n",
    "        Q = S[i]\n",
    "        dist.append(1 - (dot(Q, P)/(math.sqrt(dot(Q, Q)) * (math.sqrt(dot(P, P))))))\n",
    "    closest_points_to_p = zip(S, dist)\n",
    "    closest_points_to_p = sorted(closest_points_to_p, key=lambda x: x[1])\n",
    "\n",
    "    closest_five_points_to_p = []\n",
    "    for i in range(len(closest_points_to_p)):\n",
    "        if i < 5:\n",
    "            closest_five_points_to_p.append(closest_points_to_p[i][0])\n",
    "    return closest_five_points_to_p  # its list of tuples\n",
    "\n",
    "if __name__ == \"__main__\":\n",
    "    S = [(1, 2), (3, 4), (-1, 1), (6, -7), (0, 6), (-5, -8), (-1, -1), (6, 0), (1, -1)]\n",
    "    P = (3, -4)\n",
    "    points = closest_points_to_p(S, P)\n",
    "    print(*points, sep=\"\\n\") #print the returned values"
   ]
  },
  {
   "cell_type": "markdown",
   "metadata": {
    "colab_type": "text",
    "id": "-g11jeAiB-k5"
   },
   "source": [
    "<h3> Q6: Find Which line separates oranges and apples</h3>\n",
    "consider you have given two set of data points in the form of list of tuples like \n",
    "<pre>\n",
    "Red =[(R11,R12),(R21,R22),(R31,R32),(R41,R42),(R51,R52),..,(Rn1,Rn2)]\n",
    "Blue=[(B11,B12),(B21,B22),(B31,B32),(B41,B42),(B51,B52),..,(Bm1,Bm2)]\n",
    "</pre>\n",
    "and set of line equations(in the string formate, i.e list of strings)\n",
    "<pre>\n",
    "Lines = [a1x+b1y+c1,a2x+b2y+c2,a3x+b3y+c3,a4x+b4y+c4,..,K lines]\n",
    "Note: you need to string parsing here and get the coefficients of x,y and intercept\n",
    "</pre>\n",
    "your task is to for each line that is given print \"YES\"/\"NO\", you will print yes, if all the red points are one side of the line and blue points are other side of the line, otherwise no\n",
    "<pre>\n",
    "Ex:\n",
    "Red= [(1,1),(2,1),(4,2),(2,4), (-1,4)]\n",
    "Blue= [(-2,-1),(-1,-2),(-3,-2),(-3,-1),(1,-3)]\n",
    "Lines=[\"1x+1y+0\",\"1x-1y+0\",\"1x+0y-3\",\"0x+1y-0.5\"]\n",
    "<img src='https://i.imgur.com/mSnQW5K.png' width=400>\n",
    "\n",
    "Output:\n",
    "YES\n",
    "NO\n",
    "NO\n",
    "YES\n",
    "</pre>"
   ]
  },
  {
   "cell_type": "code",
   "execution_count": 53,
   "metadata": {
    "colab": {},
    "colab_type": "code",
    "id": "eRxExaTRB-k6"
   },
   "outputs": [
    {
     "name": "stdout",
     "output_type": "stream",
     "text": [
      "YES\n",
      "NO\n",
      "NO\n",
      "YES\n"
     ]
    }
   ],
   "source": [
    "import math\n",
    "# write your python code here\n",
    "# you can take the above example as sample input for your program to test\n",
    "# it should work for any general input try not to hard code for only given input strings\n",
    "\n",
    "\n",
    "# you can free to change all these codes/structure\n",
    "def i_am_the_one(red,blue,line):\n",
    "    '''points locations w.r.t given line'''\n",
    "    # your code\n",
    "    red_points_results = []\n",
    "    blue_points_results = []\n",
    "    \n",
    "    for ele in red:\n",
    "        equ = line.replace('x','*'+str(ele[0]))\n",
    "        equ = equ.replace('y','*'+str(ele[1]))\n",
    "        red_points_results.append(eval(equ))\n",
    "    #print(red_points_status)\n",
    "    red_points_status = all(ele >=0 for ele in red_points_results)\n",
    "\n",
    "    for ele in blue:\n",
    "        equ = line.replace('x','*'+str(ele[0]))\n",
    "        equ = equ.replace('y','*'+str(ele[1]))\n",
    "        blue_points_results.append(eval(equ))\n",
    "    #print(blue_points_status)\n",
    "    blue_points_status = all(ele >= 0 for ele in blue_points_results)\n",
    "    \n",
    "    #print(red_status,blue_status)\n",
    "    if (red_points_status != blue_points_status):\n",
    "        return \"YES\"\n",
    "    else:\n",
    "        return \"NO\"   \n",
    "\n",
    "if __name__ == \"__main__\":\n",
    "    Red = [(1, 1), (2, 1), (4, 2), (2, 4), (-1, 4)]\n",
    "    Blue = [(-2, -1), (-1, -2), (-3, -2), (-3, -1), (1, -3)]\n",
    "    Lines = [\"1x+1y+0\",\"1x-1y+0\",\"1x+0y-3\",\"0x+1y-0.5\"]\n",
    "\n",
    "    for i in Lines:\n",
    "        yes_or_no = i_am_the_one(Red, Blue, i)\n",
    "        print(yes_or_no) # the returned value"
   ]
  },
  {
   "cell_type": "markdown",
   "metadata": {
    "colab_type": "text",
    "id": "9OBpURbNB-k9"
   },
   "source": [
    "<h3> Q7: Filling the missing values in the specified formate</h3>\n",
    "You will be given a string with digits and '\\_'(missing value) symbols you have to replace the '\\_' symbols as explained \n",
    "<pre>\n",
    "Ex 1: _, _, _, 24 ==> 24/4, 24/4, 24/4, 24/4 i.e we. have distributed the 24 equally to all 4 places <br>\n",
    "Ex 2: 40, _, _, _, 60 ==> (60+40)/5,(60+40)/5,(60+40)/5,(60+40)/5,(60+40)/5 ==> 20, 20, 20, 20, 20 i.e. the sum of (60+40) is distributed qually to all 5 places<br>\n",
    "Ex 3: 80, _, _, _, _  ==> 80/5,80/5,80/5,80/5,80/5 ==> 16, 16, 16, 16, 16 i.e. the 80 is distributed qually to all 5 missing values that are right to it<br>\n",
    "Ex 4: _, _, 30, _, _, _, 50, _, _  \n",
    "==> we will fill the missing values from left to right \n",
    "    a. first we will distribute the 30 to left two missing values (10, 10, 10, _, _, _, 50, _, _)\n",
    "    b. now distribute the sum (10+50) missing values in between (10, 10, 12, 12, 12, 12, 12, _, _) \n",
    "    c. now we will distribute 12 to right side missing values (10, 10, 12, 12, 12, 12, 4, 4, 4)\n",
    "</pre>\n",
    "for a given string with comma seprate values, which will have both missing values numbers like ex: \"_, _, x, _, _, _\"\n",
    "you need fill the missing values\n",
    "\n",
    "Q: your program reads a string like ex: \"_, _, x, _, _, _\" and returns the filled sequence\n",
    "\n",
    "Ex: \n",
    "<pre>\n",
    "Input1: \"_,_,_,24\"\n",
    "Output1: 6,6,6,6\n",
    "\n",
    "Input2: \"40,_,_,_,60\"\n",
    "Output2: 20,20,20,20,20\n",
    "\n",
    "Input3: \"80,_,_,_,_\"\n",
    "Output3: 16,16,16,16,16\n",
    "\n",
    "Input4: \"_,_,30,_,_,_,50,_,_\"\n",
    "Output4: 10,10,12,12,12,12,4,4,4\n",
    "\n",
    "</pre>\n",
    "\n"
   ]
  },
  {
   "cell_type": "code",
   "execution_count": 52,
   "metadata": {
    "colab": {},
    "colab_type": "code",
    "id": "nZmpzHs_B-k-"
   },
   "outputs": [
    {
     "name": "stdout",
     "output_type": "stream",
     "text": [
      "Input: _,_,30,_,_,_,50,_,_\n",
      "Output:\n",
      "10,10,12,12,12,12,4,4,4\n"
     ]
    }
   ],
   "source": [
    "# write your python code here\n",
    "# you can take the above example as sample input for your program to test\n",
    "# it should work for any general input try not to hard code for only given input strings\n",
    "#run your code in the function for each of the inputs mentioned above and make sure that you get the same results\n",
    "\n",
    "# you can free to change all these codes/structure\n",
    "def curve_smoothing(string):\n",
    "    '''curve smooting - filf the missing with average'''\n",
    "    input_list = string.split(',')\n",
    "    data_present_list = []\n",
    "    \n",
    "    for i in range(0,len(input_list)):\n",
    "        if input_list[i] == \"_\":\n",
    "            continue\n",
    "        else:\n",
    "            data_present_list.append((input_list[i],i))\n",
    "    \n",
    "    #addiotnal case\n",
    "    if input_list[0] == \"_\":\n",
    "        data_present_list.insert(0, (str(0),0))\n",
    "    if input_list[-1] == \"_\":\n",
    "        data_present_list.append((str(0),len(input_list)-1))      \n",
    "\n",
    "    #print(data_present_list)\n",
    "    l = 0\n",
    "    while l < (len(data_present_list)-1):\n",
    "            x1 = data_present_list[l]\n",
    "            x2 = data_present_list[l+1]\n",
    "            avg = int(float(x1[0])) + int(float(x2[0]))\n",
    "            count = x2[1] - x1[1] + 1\n",
    "            avg = avg/count\n",
    "            for i in range(x1[1],x2[1]+1):\n",
    "                input_list[i]=str(avg)\n",
    "            data_present_list[l+1] = (str(avg),x2[1])\n",
    "            l = l + 1\n",
    "                                                                                               \n",
    "    return input_list\n",
    "\n",
    "if __name__ == \"__main__\":\n",
    "    S =  \"_,_,30,_,_,_,50,_,_\"\n",
    "    smoothed_values= curve_smoothing(S)\n",
    "    results_values = [int(float(x)) for x in smoothed_values]\n",
    "    print(\"Input:\", S)\n",
    "    print(\"Output:\")\n",
    "    print(*results_values, sep=',')"
   ]
  },
  {
   "cell_type": "markdown",
   "metadata": {
    "colab_type": "text",
    "id": "RBz4pzlfB-lB"
   },
   "source": [
    "<h3> Q8: Filling the missing values in the specified formate</h3>\n",
    "You will be given a list of lists, each sublist will be of length 2 i.e. [[x,y],[p,q],[l,m]..[r,s]]\n",
    "consider its like a martrix of n rows and two columns\n",
    "1. the first column F will contain only 5 uniques values (F1, F2, F3, F4, F5)\n",
    "2. the second column S will contain only 3 uniques values (S1, S2, S3)\n",
    "<pre>\n",
    "your task is to find\n",
    "a. Probability of P(F=F1|S==S1), P(F=F1|S==S2), P(F=F1|S==S3)\n",
    "b. Probability of P(F=F2|S==S1), P(F=F2|S==S2), P(F=F2|S==S3)\n",
    "c. Probability of P(F=F3|S==S1), P(F=F3|S==S2), P(F=F3|S==S3)\n",
    "d. Probability of P(F=F4|S==S1), P(F=F4|S==S2), P(F=F4|S==S3)\n",
    "e. Probability of P(F=F5|S==S1), P(F=F5|S==S2), P(F=F5|S==S3)\n",
    "</pre>\n",
    "Ex:\n",
    "\n",
    "<pre>\n",
    "[[F1,S1],[F2,S2],[F3,S3],[F1,S2],[F2,S3],[F3,S2],[F2,S1],[F4,S1],[F4,S3],[F5,S1]]\n",
    "\n",
    "a. P(F=F1|S==S1)=1/4, P(F=F1|S==S2)=1/3, P(F=F1|S==S3)=0/3\n",
    "b. P(F=F2|S==S1)=1/4, P(F=F2|S==S2)=1/3, P(F=F2|S==S3)=1/3\n",
    "c. P(F=F3|S==S1)=0/4, P(F=F3|S==S2)=1/3, P(F=F3|S==S3)=1/3\n",
    "d. P(F=F4|S==S1)=1/4, P(F=F4|S==S2)=0/3, P(F=F4|S==S3)=1/3\n",
    "e. P(F=F5|S==S1)=1/4, P(F=F5|S==S2)=0/3, P(F=F5|S==S3)=0/3\n",
    "</pre>\n",
    "\n",
    "\n"
   ]
  },
  {
   "cell_type": "code",
   "execution_count": 32,
   "metadata": {
    "colab": {},
    "colab_type": "code",
    "id": "e-1giz1MB-lC"
   },
   "outputs": [
    {
     "name": "stdout",
     "output_type": "stream",
     "text": [
      "P(F=F1|S==S1)=1/4\n",
      "P(F=F1|S==S2)=1/3\n",
      "P(F=F1|S==S3)=0/3\n",
      "\n",
      "\n",
      "P(F=F2|S==S1)=1/4\n",
      "P(F=F2|S==S2)=1/3\n",
      "P(F=F2|S==S3)=1/3\n",
      "\n",
      "\n",
      "P(F=F3|S==S1)=0/4\n",
      "P(F=F3|S==S2)=1/3\n",
      "P(F=F3|S==S3)=1/3\n",
      "\n",
      "\n",
      "P(F=F4|S==S1)=1/4\n",
      "P(F=F4|S==S2)=0/3\n",
      "P(F=F4|S==S3)=1/3\n",
      "\n",
      "\n",
      "P(F=F5|S==S1)=1/4\n",
      "P(F=F5|S==S2)=0/3\n",
      "P(F=F5|S==S3)=0/3\n",
      "\n",
      "\n"
     ]
    }
   ],
   "source": [
    "# write your python code here\n",
    "# you can take the above example as sample input for your program to test\n",
    "# it should work for any general input try not to hard code for only given input strings. Do not write 15 print statements.\n",
    "# you can use nested loops or dictionaries to write your code\n",
    "\n",
    "# you can free to change all these codes/structure\n",
    "def conditional_probabilites(A, f, s):\n",
    "    '''compute conditional probabilites'''\n",
    "    d = 0\n",
    "    for i in range(len(A)):\n",
    "        if A[i][1] == s:\n",
    "            d += 1\n",
    "    n = 0\n",
    "    for i in range(len(A)):\n",
    "        if A[i][1] == s and A[i][0] == f:\n",
    "            n += 1\n",
    "    print(\"P(F={0}|S=={1})={2}/{3}\".format(f, s, n, d))\n",
    "        \n",
    "def compute_conditional_probabilites(A):\n",
    "    '''compute conditional probabilites'''\n",
    "    F = ['F1', 'F2', 'F3', 'F4', 'F5']\n",
    "    S = ['S1', 'S2', 'S3']\n",
    "    for f in F:\n",
    "        for s in S:\n",
    "            conditional_probabilites(A, f, s)\n",
    "        print(\"\\n\")\n",
    "    return\n",
    "            \n",
    "if __name__ == \"__main__\":\n",
    "    A = [['F1', 'S1'], ['F2', 'S2'], ['F3', 'S3'], ['F1', 'S2'], ['F2', 'S3'], \\\n",
    "         ['F3', 'S2'], ['F2', 'S1'],['F4', 'S1'],['F4', 'S3'],['F5', 'S1']]\n",
    "    compute_conditional_probabilites(A)"
   ]
  },
  {
   "cell_type": "markdown",
   "metadata": {
    "colab_type": "text",
    "id": "n4HS87QmB-lF"
   },
   "source": [
    "<h3> Q9: Given two sentances S1, S2</h3>\n",
    "You will be given two sentances S1, S2 your task is to find \n",
    "<pre>\n",
    "a. Number of common words between S1, S2\n",
    "b. Words in S1 but not in S2\n",
    "c. Words in S2 but not in S1\n",
    "</pre>\n",
    "\n",
    "Ex: \n",
    "<pre>\n",
    "S1= \"the first column F will contain only 5 uniques values\"\n",
    "S2= \"the second column S will contain only 3 uniques values\"\n",
    "Output:\n",
    "a. 7\n",
    "b. ['first','F','5']\n",
    "c. ['second','S','3']\n",
    "</pre>"
   ]
  },
  {
   "cell_type": "code",
   "execution_count": 4,
   "metadata": {
    "colab": {},
    "colab_type": "code",
    "id": "Ez7hlHK0B-lG"
   },
   "outputs": [
    {
     "name": "stdout",
     "output_type": "stream",
     "text": [
      "Number of common words between S1, S2 : 7\n",
      "Words in S1 but not in S2: ['first', 'F', '5']\n",
      "Words in S2 but not in S1: ['second', 'S', '3']\n"
     ]
    }
   ],
   "source": [
    "# write your python code here\n",
    "# you can take the above example as sample input for your program to test\n",
    "# it should work for any general input try not to hard code for only given input strings\n",
    "\n",
    "# you can free to change all these codes/structure\n",
    "def string_features(S1, S2):\n",
    "    '''Get the required information on given two strings\n",
    "    Number of common words between S1, S2\n",
    "    Words in S1 but not in S2\n",
    "    Words in S2 but not in S1'''\n",
    "    #init - values\n",
    "    a = 0\n",
    "    b = []\n",
    "    c = []\n",
    "    # repeat S1 words in S2 compare\n",
    "    for i in S1.split():\n",
    "        if i in S2:\n",
    "            a += 1\n",
    "        else:\n",
    "            b.append(i)\n",
    "            \n",
    "    #repeat S2 words not in S1 compare        \n",
    "    for i in S2.split():\n",
    "        if i not in S1:\n",
    "            c.append(i)\n",
    "    \n",
    "    return a, b, c\n",
    "\n",
    "if __name__ == \"__main__\":\n",
    "    S1 = \"the first column F will contain only 5 uniques values\"\n",
    "    S2 = \"the second column S will contain only 3 uniques values\"\n",
    "    a, b, c = string_features(S1, S2)\n",
    "    print(\"Number of common words between S1, S2 :\", a)\n",
    "    print(\"Words in S1 but not in S2:\", b)\n",
    "    print(\"Words in S2 but not in S1:\", c)"
   ]
  },
  {
   "cell_type": "markdown",
   "metadata": {
    "colab_type": "text",
    "id": "XefXVEjCB-lI"
   },
   "source": [
    "<h3> Q10: Error Function</h3>\n",
    "You will be given a list of lists, each sublist will be of length 2 i.e. [[x,y],[p,q],[l,m]..[r,s]]\n",
    "consider its like a martrix of n rows and two columns\n",
    "\n",
    "a. the first column Y will contain interger values <br>\n",
    "b. the second column $Y_{score}$ will be having float values <br>\n",
    "Your task is to find the value of $f(Y,Y_{score}) = -1*\\frac{1}{n}\\Sigma_{for each Y,Y_{score} pair}(Ylog10(Y_{score})+(1-Y)log10(1-Y_{score}))$ here n is the number of rows in the matrix\n",
    "<pre>\n",
    "Ex:\n",
    "[[1, 0.4], [0, 0.5], [0, 0.9], [0, 0.3], [0, 0.6], [1, 0.1], [1, 0.9], [1, 0.8]]\n",
    "output:\n",
    "0.4243099\n",
    "</pre>\n",
    "$\\frac{-1}{8}\\cdot((1\\cdot log_{10}(0.4)+0\\cdot log_{10}(0.6))+(0\\cdot log_{10}(0.5)+1\\cdot log_{10}(0.5)) + ... + (1\\cdot log_{10}(0.8)+0\\cdot log_{10}(0.2)) )$"
   ]
  },
  {
   "cell_type": "code",
   "execution_count": 3,
   "metadata": {
    "colab": {},
    "colab_type": "code",
    "id": "N9zkagyNB-lJ"
   },
   "outputs": [
    {
     "name": "stdout",
     "output_type": "stream",
     "text": [
      "0.42430993457031635\n"
     ]
    }
   ],
   "source": [
    "# write your python code here\n",
    "# you can take the above example as sample input for your program to test\n",
    "# it should work for any general input try not to hard code for only given input strings\n",
    "import math\n",
    "\n",
    "# you can free to change all these codes/structure\n",
    "def compute_log_loss(A):\n",
    "    '''Evalue the equation: Compute log loss of given lists of list'''\n",
    "    loss = 0\n",
    "    for i in range(len(A)):\n",
    "        y = A[i][0]\n",
    "        y_score = A[i][1]\n",
    "        loss = loss + ((y * math.log10(y_score) + ((1-y) * math.log10(1-y_score))))\n",
    "        \n",
    "    loss = -loss/len(A)\n",
    "    return loss\n",
    "\n",
    "if __name__ == \"__main__\":\n",
    "    A = [[1, 0.4], [0, 0.5], [0, 0.9], [0, 0.3], [0, 0.6], [1, 0.1], [1, 0.9], [1, 0.8]]\n",
    "    loss = compute_log_loss(A)\n",
    "    print(loss)"
   ]
  }
 ],
 "metadata": {
  "colab": {
   "collapsed_sections": [],
   "name": "1.Python Assignment.ipynb",
   "provenance": []
  },
  "kernelspec": {
   "display_name": "Python 3",
   "language": "python",
   "name": "python3"
  },
  "language_info": {
   "codemirror_mode": {
    "name": "ipython",
    "version": 3
   },
   "file_extension": ".py",
   "mimetype": "text/x-python",
   "name": "python",
   "nbconvert_exporter": "python",
   "pygments_lexer": "ipython3",
   "version": "3.6.9"
  }
 },
 "nbformat": 4,
 "nbformat_minor": 1
}
